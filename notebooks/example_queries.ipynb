{
 "cells": [
  {
   "cell_type": "code",
   "execution_count": null,
   "metadata": {},
   "outputs": [],
   "source": [
    "from metlo import query, Filter, FilterOp, TimeDimension, TimeGranularity"
   ]
  },
  {
   "cell_type": "markdown",
   "metadata": {},
   "source": [
    "## Querying a Metric"
   ]
  },
  {
   "cell_type": "code",
   "execution_count": null,
   "metadata": {},
   "outputs": [],
   "source": [
    "query('num_trips')"
   ]
  },
  {
   "cell_type": "markdown",
   "metadata": {},
   "source": [
    "## Grouping"
   ]
  },
  {
   "cell_type": "code",
   "execution_count": null,
   "metadata": {},
   "outputs": [],
   "source": [
    "query(\n",
    "    'num_trips',\n",
    "    groups=['product'],\n",
    ")"
   ]
  },
  {
   "cell_type": "markdown",
   "metadata": {},
   "source": [
    "## Grouping on Time"
   ]
  },
  {
   "cell_type": "code",
   "execution_count": null,
   "metadata": {},
   "outputs": [],
   "source": [
    "df = query(\n",
    "    'num_trips',\n",
    "    groups=['product'],\n",
    "    time_dimensions=[\n",
    "        TimeDimension(\n",
    "            dimension='trip_time',\n",
    "            granularity='month'\n",
    "        )\n",
    "    ]\n",
    ")\n",
    "df.head()"
   ]
  },
  {
   "cell_type": "markdown",
   "metadata": {},
   "source": [
    "## Filtering"
   ]
  },
  {
   "cell_type": "code",
   "execution_count": null,
   "metadata": {},
   "outputs": [],
   "source": [
    "query(\n",
    "    'num_trips',\n",
    "    filters=[\n",
    "        Filter(\n",
    "            dimension='city',\n",
    "            values=[1, 2],\n",
    "        ),\n",
    "    ],\n",
    "    groups=['product'],\n",
    ")"
   ]
  },
  {
   "cell_type": "markdown",
   "metadata": {},
   "source": [
    "## Filtering on Time"
   ]
  },
  {
   "cell_type": "code",
   "execution_count": null,
   "metadata": {},
   "outputs": [],
   "source": [
    "query(\n",
    "    'num_trips',\n",
    "    groups=['product'],\n",
    "    time_dimensions=[\n",
    "        TimeDimension(\n",
    "            dimension='trip_time',\n",
    "            lookback='7d',\n",
    "        )\n",
    "    ]\n",
    ")"
   ]
  },
  {
   "cell_type": "markdown",
   "metadata": {},
   "source": [
    "## Streaming"
   ]
  },
  {
   "cell_type": "code",
   "execution_count": null,
   "metadata": {},
   "outputs": [],
   "source": [
    "query(\n",
    "    'num_trips',\n",
    "    groups=['product'],\n",
    "    time_dimensions=[\n",
    "        TimeDimension(\n",
    "            dimension='trip_time',\n",
    "            lookback='10m',\n",
    "        )\n",
    "    ],\n",
    "    streaming=True\n",
    ")"
   ]
  },
  {
   "cell_type": "code",
   "execution_count": null,
   "metadata": {},
   "outputs": [],
   "source": [
    "query(\n",
    "    ['num_trips', 'avg_wait_time'],\n",
    "    groups=['product'],\n",
    "    time_dimensions=[\n",
    "        TimeDimension(\n",
    "            dimension='trip_time',\n",
    "            lookback='1h',\n",
    "        )\n",
    "    ],\n",
    "    streaming=True\n",
    ")"
   ]
  },
  {
   "cell_type": "code",
   "execution_count": null,
   "metadata": {},
   "outputs": [],
   "source": []
  }
 ],
 "metadata": {
  "kernelspec": {
   "display_name": "Python 3 (ipykernel)",
   "language": "python",
   "name": "python3"
  },
  "language_info": {
   "codemirror_mode": {
    "name": "ipython",
    "version": 3
   },
   "file_extension": ".py",
   "mimetype": "text/x-python",
   "name": "python",
   "nbconvert_exporter": "python",
   "pygments_lexer": "ipython3",
   "version": "3.9.8"
  }
 },
 "nbformat": 4,
 "nbformat_minor": 2
}
